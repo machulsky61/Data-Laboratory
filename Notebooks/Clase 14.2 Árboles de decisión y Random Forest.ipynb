{
  "nbformat": 4,
  "nbformat_minor": 0,
  "metadata": {
    "colab": {
      "provenance": []
    },
    "kernelspec": {
      "name": "python3",
      "display_name": "Python 3"
    },
    "language_info": {
      "name": "python"
    }
  },
  "cells": [
    {
      "cell_type": "markdown",
      "metadata": {
        "id": "A6ofV6HC_ScT"
      },
      "source": [
        "# Árboles de decisión y Random Forest como modelos de clasificación\n",
        "\n",
        "En esta segunda parte, utilizaremos los árboles de decisión como algoritmos de clasificación. La sintaxis y la forma de proceder es muy similar a la utilizada en regresión con árboles y lo visto en otros algoritmos de clasificación como la regresión logística, por lo que vamos a hacer un repaso muy breve.\n",
        "\n",
        "Vamos a utilizar la misma base de datos de la notebook de regresión con árboles, en este caso para responder una pregunta quizás un tanto rebuscada: dados datos de los metros cuadrados, el precio de publicación de un inmueble, la antigüedad, etc, ¿podemos identificar en qué zona de la ciudad se encuentra el inmueble?"
      ]
    },
    {
      "cell_type": "markdown",
      "metadata": {
        "id": "CTa23lYdEML5"
      },
      "source": [
        "### Carga de librerías\n"
      ]
    },
    {
      "cell_type": "code",
      "metadata": {
        "colab": {
          "base_uri": "https://localhost:8080/"
        },
        "id": "qOOm67sfHF1P",
        "outputId": "c7128418-04a3-46f8-b982-c828abf46ef5"
      },
      "source": [
        "# Librerias generales y montaje del drive\n",
        "import pandas as pd\n",
        "from google.colab import drive\n",
        "drive.mount('/content/drive')\n",
        "import matplotlib.pyplot as plt\n",
        "import numpy as np"
      ],
      "execution_count": null,
      "outputs": [
        {
          "output_type": "stream",
          "name": "stdout",
          "text": [
            "Mounted at /content/drive\n"
          ]
        }
      ]
    },
    {
      "cell_type": "markdown",
      "metadata": {
        "id": "77gF7-naF4C8"
      },
      "source": [
        "Módulos de scikit-learn para árboles de clasificación y métricas para evaluar nuestro modelo:"
      ]
    },
    {
      "cell_type": "code",
      "metadata": {
        "id": "LpBNdB5nGJsL"
      },
      "source": [
        "# Modulos específicos para árboles de decisión\n",
        "from sklearn.tree import DecisionTreeClassifier # Arboles de decisión para clasificación\n",
        "from sklearn.tree import plot_tree # Función para visualizar el árbol\n",
        "\n",
        "from sklearn.ensemble import RandomForestClassifier # Random forests para clasificación\n",
        "\n",
        "# Módulos utiles para evaluar el modelo\n",
        "from sklearn.model_selection import train_test_split # Para separar en train y test\n",
        "from sklearn.model_selection import cross_val_score # Para hacer cross-validation y evaluar el modelo"
      ],
      "execution_count": null,
      "outputs": []
    },
    {
      "cell_type": "markdown",
      "metadata": {
        "id": "NZ0Nmv3TCAp7"
      },
      "source": [
        "## Base de datos\n",
        "\n",
        "Volvemos a trabajar con la base de datos de precios de inmuebles de la ciudad de Buenos Aires del año 2016.\n",
        "\n",
        "Cargamos los datos y construimos las mismas columnas que hicimos en la notebook anterior:"
      ]
    },
    {
      "cell_type": "code",
      "metadata": {
        "id": "W6O1N8xaHIJW"
      },
      "source": [
        "# Path de nuestro dataset\n",
        "filename = '/content/drive/My Drive/LaboDatos2021/Precios_Departamentos_2016.csv'"
      ],
      "execution_count": null,
      "outputs": []
    },
    {
      "cell_type": "code",
      "metadata": {
        "colab": {
          "base_uri": "https://localhost:8080/",
          "height": 224
        },
        "id": "OIrIx7mRHrrd",
        "outputId": "2890a5a2-9b47-45dc-a03f-2968d0deca20"
      },
      "source": [
        "# Carga del dataset\n",
        "df = pd.read_csv(filename)\n",
        "\n",
        "# Logaritmo en base 10 del precio en dolares del inmueble\n",
        "df['log10_DOLARES'] = np.log10(df['DOLARES'])\n",
        "\n",
        "print('Dimensión del dataset: {}'.format(df.shape))\n",
        "\n",
        "# Inspección de los primeros datos\n",
        "df.head()"
      ],
      "execution_count": null,
      "outputs": [
        {
          "output_type": "stream",
          "name": "stdout",
          "text": [
            "Dimensión del dataset: (2232, 9)\n"
          ]
        },
        {
          "output_type": "execute_result",
          "data": {
            "text/plain": [
              "   M2  AMBIENTES  ANTIGUEDAD  BAÑOS    LATITUD   LONGITUD     COMUNA  DOLARES  \\\n",
              "0  81          3           4      1 -34.581078 -58.449433  COMUNA 13   225000   \n",
              "1  69          3          20      1 -34.623129 -58.439338  COMUNA 06   140000   \n",
              "2  75          3          20      1 -34.604972 -58.421278  COMUNA 05   154000   \n",
              "3  42          2          40      1 -34.604725 -58.399524  COMUNA 03    75000   \n",
              "4  90          3           1      1 -34.623390 -58.504401  COMUNA 10   149900   \n",
              "\n",
              "   log10_DOLARES  \n",
              "0       5.352183  \n",
              "1       5.146128  \n",
              "2       5.187521  \n",
              "3       4.875061  \n",
              "4       5.175802  "
            ],
            "text/html": [
              "\n",
              "  <div id=\"df-d674be71-30b9-416b-a867-01f51f61b469\">\n",
              "    <div class=\"colab-df-container\">\n",
              "      <div>\n",
              "<style scoped>\n",
              "    .dataframe tbody tr th:only-of-type {\n",
              "        vertical-align: middle;\n",
              "    }\n",
              "\n",
              "    .dataframe tbody tr th {\n",
              "        vertical-align: top;\n",
              "    }\n",
              "\n",
              "    .dataframe thead th {\n",
              "        text-align: right;\n",
              "    }\n",
              "</style>\n",
              "<table border=\"1\" class=\"dataframe\">\n",
              "  <thead>\n",
              "    <tr style=\"text-align: right;\">\n",
              "      <th></th>\n",
              "      <th>M2</th>\n",
              "      <th>AMBIENTES</th>\n",
              "      <th>ANTIGUEDAD</th>\n",
              "      <th>BAÑOS</th>\n",
              "      <th>LATITUD</th>\n",
              "      <th>LONGITUD</th>\n",
              "      <th>COMUNA</th>\n",
              "      <th>DOLARES</th>\n",
              "      <th>log10_DOLARES</th>\n",
              "    </tr>\n",
              "  </thead>\n",
              "  <tbody>\n",
              "    <tr>\n",
              "      <th>0</th>\n",
              "      <td>81</td>\n",
              "      <td>3</td>\n",
              "      <td>4</td>\n",
              "      <td>1</td>\n",
              "      <td>-34.581078</td>\n",
              "      <td>-58.449433</td>\n",
              "      <td>COMUNA 13</td>\n",
              "      <td>225000</td>\n",
              "      <td>5.352183</td>\n",
              "    </tr>\n",
              "    <tr>\n",
              "      <th>1</th>\n",
              "      <td>69</td>\n",
              "      <td>3</td>\n",
              "      <td>20</td>\n",
              "      <td>1</td>\n",
              "      <td>-34.623129</td>\n",
              "      <td>-58.439338</td>\n",
              "      <td>COMUNA 06</td>\n",
              "      <td>140000</td>\n",
              "      <td>5.146128</td>\n",
              "    </tr>\n",
              "    <tr>\n",
              "      <th>2</th>\n",
              "      <td>75</td>\n",
              "      <td>3</td>\n",
              "      <td>20</td>\n",
              "      <td>1</td>\n",
              "      <td>-34.604972</td>\n",
              "      <td>-58.421278</td>\n",
              "      <td>COMUNA 05</td>\n",
              "      <td>154000</td>\n",
              "      <td>5.187521</td>\n",
              "    </tr>\n",
              "    <tr>\n",
              "      <th>3</th>\n",
              "      <td>42</td>\n",
              "      <td>2</td>\n",
              "      <td>40</td>\n",
              "      <td>1</td>\n",
              "      <td>-34.604725</td>\n",
              "      <td>-58.399524</td>\n",
              "      <td>COMUNA 03</td>\n",
              "      <td>75000</td>\n",
              "      <td>4.875061</td>\n",
              "    </tr>\n",
              "    <tr>\n",
              "      <th>4</th>\n",
              "      <td>90</td>\n",
              "      <td>3</td>\n",
              "      <td>1</td>\n",
              "      <td>1</td>\n",
              "      <td>-34.623390</td>\n",
              "      <td>-58.504401</td>\n",
              "      <td>COMUNA 10</td>\n",
              "      <td>149900</td>\n",
              "      <td>5.175802</td>\n",
              "    </tr>\n",
              "  </tbody>\n",
              "</table>\n",
              "</div>\n",
              "      <button class=\"colab-df-convert\" onclick=\"convertToInteractive('df-d674be71-30b9-416b-a867-01f51f61b469')\"\n",
              "              title=\"Convert this dataframe to an interactive table.\"\n",
              "              style=\"display:none;\">\n",
              "        \n",
              "  <svg xmlns=\"http://www.w3.org/2000/svg\" height=\"24px\"viewBox=\"0 0 24 24\"\n",
              "       width=\"24px\">\n",
              "    <path d=\"M0 0h24v24H0V0z\" fill=\"none\"/>\n",
              "    <path d=\"M18.56 5.44l.94 2.06.94-2.06 2.06-.94-2.06-.94-.94-2.06-.94 2.06-2.06.94zm-11 1L8.5 8.5l.94-2.06 2.06-.94-2.06-.94L8.5 2.5l-.94 2.06-2.06.94zm10 10l.94 2.06.94-2.06 2.06-.94-2.06-.94-.94-2.06-.94 2.06-2.06.94z\"/><path d=\"M17.41 7.96l-1.37-1.37c-.4-.4-.92-.59-1.43-.59-.52 0-1.04.2-1.43.59L10.3 9.45l-7.72 7.72c-.78.78-.78 2.05 0 2.83L4 21.41c.39.39.9.59 1.41.59.51 0 1.02-.2 1.41-.59l7.78-7.78 2.81-2.81c.8-.78.8-2.07 0-2.86zM5.41 20L4 18.59l7.72-7.72 1.47 1.35L5.41 20z\"/>\n",
              "  </svg>\n",
              "      </button>\n",
              "      \n",
              "  <style>\n",
              "    .colab-df-container {\n",
              "      display:flex;\n",
              "      flex-wrap:wrap;\n",
              "      gap: 12px;\n",
              "    }\n",
              "\n",
              "    .colab-df-convert {\n",
              "      background-color: #E8F0FE;\n",
              "      border: none;\n",
              "      border-radius: 50%;\n",
              "      cursor: pointer;\n",
              "      display: none;\n",
              "      fill: #1967D2;\n",
              "      height: 32px;\n",
              "      padding: 0 0 0 0;\n",
              "      width: 32px;\n",
              "    }\n",
              "\n",
              "    .colab-df-convert:hover {\n",
              "      background-color: #E2EBFA;\n",
              "      box-shadow: 0px 1px 2px rgba(60, 64, 67, 0.3), 0px 1px 3px 1px rgba(60, 64, 67, 0.15);\n",
              "      fill: #174EA6;\n",
              "    }\n",
              "\n",
              "    [theme=dark] .colab-df-convert {\n",
              "      background-color: #3B4455;\n",
              "      fill: #D2E3FC;\n",
              "    }\n",
              "\n",
              "    [theme=dark] .colab-df-convert:hover {\n",
              "      background-color: #434B5C;\n",
              "      box-shadow: 0px 1px 3px 1px rgba(0, 0, 0, 0.15);\n",
              "      filter: drop-shadow(0px 1px 2px rgba(0, 0, 0, 0.3));\n",
              "      fill: #FFFFFF;\n",
              "    }\n",
              "  </style>\n",
              "\n",
              "      <script>\n",
              "        const buttonEl =\n",
              "          document.querySelector('#df-d674be71-30b9-416b-a867-01f51f61b469 button.colab-df-convert');\n",
              "        buttonEl.style.display =\n",
              "          google.colab.kernel.accessAllowed ? 'block' : 'none';\n",
              "\n",
              "        async function convertToInteractive(key) {\n",
              "          const element = document.querySelector('#df-d674be71-30b9-416b-a867-01f51f61b469');\n",
              "          const dataTable =\n",
              "            await google.colab.kernel.invokeFunction('convertToInteractive',\n",
              "                                                     [key], {});\n",
              "          if (!dataTable) return;\n",
              "\n",
              "          const docLinkHtml = 'Like what you see? Visit the ' +\n",
              "            '<a target=\"_blank\" href=https://colab.research.google.com/notebooks/data_table.ipynb>data table notebook</a>'\n",
              "            + ' to learn more about interactive tables.';\n",
              "          element.innerHTML = '';\n",
              "          dataTable['output_type'] = 'display_data';\n",
              "          await google.colab.output.renderOutput(dataTable, element);\n",
              "          const docLink = document.createElement('div');\n",
              "          docLink.innerHTML = docLinkHtml;\n",
              "          element.appendChild(docLink);\n",
              "        }\n",
              "      </script>\n",
              "    </div>\n",
              "  </div>\n",
              "  "
            ]
          },
          "metadata": {},
          "execution_count": 4
        }
      ]
    },
    {
      "cell_type": "markdown",
      "metadata": {
        "id": "ojAaMFIDcuo1"
      },
      "source": [
        "Dado que queremos ver si podemos identificar la zona a la cual pertenece el inmueble, definamos zona primero. La definición la vamos a tomar de [este mapa](https://www.estadisticaciudad.gob.ar/eyc/?p=52285) perteneciente a la dirección de estadísticas y censos de la Ciudad que divide la ciudad en 5 zonas. Creemos una nueva columna con la zona a la que pertenece cada comuna:"
      ]
    },
    {
      "cell_type": "code",
      "metadata": {
        "colab": {
          "base_uri": "https://localhost:8080/",
          "height": 206
        },
        "id": "z6v8QBjJS68_",
        "outputId": "ee3fab7f-1ec5-4365-d283-327e49daca42"
      },
      "source": [
        "# Defino un diccionario de a qué zona va cada comuna\n",
        "zonas = {'COMUNA 01': 'B', 'COMUNA 02': 'A', 'COMUNA 03': 'B',\n",
        "         'COMUNA 04': 'C', 'COMUNA 05': 'E', 'COMUNA 06': 'E',\n",
        "         'COMUNA 07': 'E', 'COMUNA 08': 'C', 'COMUNA 09': 'D',\n",
        "         'COMUNA 10': 'D', 'COMUNA 11': 'D', 'COMUNA 12': 'A',\n",
        "         'COMUNA 13': 'A', 'COMUNA 14': 'A', 'COMUNA 15': 'E'}\n",
        "\n",
        "# Creo una nueva columna aplicando el diccionario creado\n",
        "df['ZONA'] = df['COMUNA'].apply(lambda x: zonas[x])\n",
        "\n",
        "df.head()"
      ],
      "execution_count": null,
      "outputs": [
        {
          "output_type": "execute_result",
          "data": {
            "text/plain": [
              "   M2  AMBIENTES  ANTIGUEDAD  BAÑOS    LATITUD   LONGITUD     COMUNA  DOLARES  \\\n",
              "0  81          3           4      1 -34.581078 -58.449433  COMUNA 13   225000   \n",
              "1  69          3          20      1 -34.623129 -58.439338  COMUNA 06   140000   \n",
              "2  75          3          20      1 -34.604972 -58.421278  COMUNA 05   154000   \n",
              "3  42          2          40      1 -34.604725 -58.399524  COMUNA 03    75000   \n",
              "4  90          3           1      1 -34.623390 -58.504401  COMUNA 10   149900   \n",
              "\n",
              "   log10_DOLARES ZONA  \n",
              "0       5.352183    A  \n",
              "1       5.146128    E  \n",
              "2       5.187521    E  \n",
              "3       4.875061    B  \n",
              "4       5.175802    D  "
            ],
            "text/html": [
              "\n",
              "  <div id=\"df-615b144d-59eb-415a-8338-eeef5efffc07\">\n",
              "    <div class=\"colab-df-container\">\n",
              "      <div>\n",
              "<style scoped>\n",
              "    .dataframe tbody tr th:only-of-type {\n",
              "        vertical-align: middle;\n",
              "    }\n",
              "\n",
              "    .dataframe tbody tr th {\n",
              "        vertical-align: top;\n",
              "    }\n",
              "\n",
              "    .dataframe thead th {\n",
              "        text-align: right;\n",
              "    }\n",
              "</style>\n",
              "<table border=\"1\" class=\"dataframe\">\n",
              "  <thead>\n",
              "    <tr style=\"text-align: right;\">\n",
              "      <th></th>\n",
              "      <th>M2</th>\n",
              "      <th>AMBIENTES</th>\n",
              "      <th>ANTIGUEDAD</th>\n",
              "      <th>BAÑOS</th>\n",
              "      <th>LATITUD</th>\n",
              "      <th>LONGITUD</th>\n",
              "      <th>COMUNA</th>\n",
              "      <th>DOLARES</th>\n",
              "      <th>log10_DOLARES</th>\n",
              "      <th>ZONA</th>\n",
              "    </tr>\n",
              "  </thead>\n",
              "  <tbody>\n",
              "    <tr>\n",
              "      <th>0</th>\n",
              "      <td>81</td>\n",
              "      <td>3</td>\n",
              "      <td>4</td>\n",
              "      <td>1</td>\n",
              "      <td>-34.581078</td>\n",
              "      <td>-58.449433</td>\n",
              "      <td>COMUNA 13</td>\n",
              "      <td>225000</td>\n",
              "      <td>5.352183</td>\n",
              "      <td>A</td>\n",
              "    </tr>\n",
              "    <tr>\n",
              "      <th>1</th>\n",
              "      <td>69</td>\n",
              "      <td>3</td>\n",
              "      <td>20</td>\n",
              "      <td>1</td>\n",
              "      <td>-34.623129</td>\n",
              "      <td>-58.439338</td>\n",
              "      <td>COMUNA 06</td>\n",
              "      <td>140000</td>\n",
              "      <td>5.146128</td>\n",
              "      <td>E</td>\n",
              "    </tr>\n",
              "    <tr>\n",
              "      <th>2</th>\n",
              "      <td>75</td>\n",
              "      <td>3</td>\n",
              "      <td>20</td>\n",
              "      <td>1</td>\n",
              "      <td>-34.604972</td>\n",
              "      <td>-58.421278</td>\n",
              "      <td>COMUNA 05</td>\n",
              "      <td>154000</td>\n",
              "      <td>5.187521</td>\n",
              "      <td>E</td>\n",
              "    </tr>\n",
              "    <tr>\n",
              "      <th>3</th>\n",
              "      <td>42</td>\n",
              "      <td>2</td>\n",
              "      <td>40</td>\n",
              "      <td>1</td>\n",
              "      <td>-34.604725</td>\n",
              "      <td>-58.399524</td>\n",
              "      <td>COMUNA 03</td>\n",
              "      <td>75000</td>\n",
              "      <td>4.875061</td>\n",
              "      <td>B</td>\n",
              "    </tr>\n",
              "    <tr>\n",
              "      <th>4</th>\n",
              "      <td>90</td>\n",
              "      <td>3</td>\n",
              "      <td>1</td>\n",
              "      <td>1</td>\n",
              "      <td>-34.623390</td>\n",
              "      <td>-58.504401</td>\n",
              "      <td>COMUNA 10</td>\n",
              "      <td>149900</td>\n",
              "      <td>5.175802</td>\n",
              "      <td>D</td>\n",
              "    </tr>\n",
              "  </tbody>\n",
              "</table>\n",
              "</div>\n",
              "      <button class=\"colab-df-convert\" onclick=\"convertToInteractive('df-615b144d-59eb-415a-8338-eeef5efffc07')\"\n",
              "              title=\"Convert this dataframe to an interactive table.\"\n",
              "              style=\"display:none;\">\n",
              "        \n",
              "  <svg xmlns=\"http://www.w3.org/2000/svg\" height=\"24px\"viewBox=\"0 0 24 24\"\n",
              "       width=\"24px\">\n",
              "    <path d=\"M0 0h24v24H0V0z\" fill=\"none\"/>\n",
              "    <path d=\"M18.56 5.44l.94 2.06.94-2.06 2.06-.94-2.06-.94-.94-2.06-.94 2.06-2.06.94zm-11 1L8.5 8.5l.94-2.06 2.06-.94-2.06-.94L8.5 2.5l-.94 2.06-2.06.94zm10 10l.94 2.06.94-2.06 2.06-.94-2.06-.94-.94-2.06-.94 2.06-2.06.94z\"/><path d=\"M17.41 7.96l-1.37-1.37c-.4-.4-.92-.59-1.43-.59-.52 0-1.04.2-1.43.59L10.3 9.45l-7.72 7.72c-.78.78-.78 2.05 0 2.83L4 21.41c.39.39.9.59 1.41.59.51 0 1.02-.2 1.41-.59l7.78-7.78 2.81-2.81c.8-.78.8-2.07 0-2.86zM5.41 20L4 18.59l7.72-7.72 1.47 1.35L5.41 20z\"/>\n",
              "  </svg>\n",
              "      </button>\n",
              "      \n",
              "  <style>\n",
              "    .colab-df-container {\n",
              "      display:flex;\n",
              "      flex-wrap:wrap;\n",
              "      gap: 12px;\n",
              "    }\n",
              "\n",
              "    .colab-df-convert {\n",
              "      background-color: #E8F0FE;\n",
              "      border: none;\n",
              "      border-radius: 50%;\n",
              "      cursor: pointer;\n",
              "      display: none;\n",
              "      fill: #1967D2;\n",
              "      height: 32px;\n",
              "      padding: 0 0 0 0;\n",
              "      width: 32px;\n",
              "    }\n",
              "\n",
              "    .colab-df-convert:hover {\n",
              "      background-color: #E2EBFA;\n",
              "      box-shadow: 0px 1px 2px rgba(60, 64, 67, 0.3), 0px 1px 3px 1px rgba(60, 64, 67, 0.15);\n",
              "      fill: #174EA6;\n",
              "    }\n",
              "\n",
              "    [theme=dark] .colab-df-convert {\n",
              "      background-color: #3B4455;\n",
              "      fill: #D2E3FC;\n",
              "    }\n",
              "\n",
              "    [theme=dark] .colab-df-convert:hover {\n",
              "      background-color: #434B5C;\n",
              "      box-shadow: 0px 1px 3px 1px rgba(0, 0, 0, 0.15);\n",
              "      filter: drop-shadow(0px 1px 2px rgba(0, 0, 0, 0.3));\n",
              "      fill: #FFFFFF;\n",
              "    }\n",
              "  </style>\n",
              "\n",
              "      <script>\n",
              "        const buttonEl =\n",
              "          document.querySelector('#df-615b144d-59eb-415a-8338-eeef5efffc07 button.colab-df-convert');\n",
              "        buttonEl.style.display =\n",
              "          google.colab.kernel.accessAllowed ? 'block' : 'none';\n",
              "\n",
              "        async function convertToInteractive(key) {\n",
              "          const element = document.querySelector('#df-615b144d-59eb-415a-8338-eeef5efffc07');\n",
              "          const dataTable =\n",
              "            await google.colab.kernel.invokeFunction('convertToInteractive',\n",
              "                                                     [key], {});\n",
              "          if (!dataTable) return;\n",
              "\n",
              "          const docLinkHtml = 'Like what you see? Visit the ' +\n",
              "            '<a target=\"_blank\" href=https://colab.research.google.com/notebooks/data_table.ipynb>data table notebook</a>'\n",
              "            + ' to learn more about interactive tables.';\n",
              "          element.innerHTML = '';\n",
              "          dataTable['output_type'] = 'display_data';\n",
              "          await google.colab.output.renderOutput(dataTable, element);\n",
              "          const docLink = document.createElement('div');\n",
              "          docLink.innerHTML = docLinkHtml;\n",
              "          element.appendChild(docLink);\n",
              "        }\n",
              "      </script>\n",
              "    </div>\n",
              "  </div>\n",
              "  "
            ]
          },
          "metadata": {},
          "execution_count": 5
        }
      ]
    },
    {
      "cell_type": "markdown",
      "metadata": {
        "id": "Rg2HM2BxlEs3"
      },
      "source": [
        "Algo que es importante notar es que las zonas pueden estar desbalanceadas. Esto lo chequeamos con las siguentes líneas:"
      ]
    },
    {
      "cell_type": "code",
      "metadata": {
        "colab": {
          "base_uri": "https://localhost:8080/"
        },
        "id": "1QSkvZLWeHap",
        "outputId": "a97e187d-41a2-4403-daef-957ac83c16f8"
      },
      "source": [
        "labels, counts = np.unique(df['ZONA'], return_counts=True) # Función que devuelve las etiquetas y las frecuencias\n",
        "\n",
        "print('Etiquetas {}'.format(labels))\n",
        "print('Frecuencias {}'.format(counts))"
      ],
      "execution_count": null,
      "outputs": [
        {
          "output_type": "stream",
          "name": "stdout",
          "text": [
            "Etiquetas ['A' 'B' 'C' 'D' 'E']\n",
            "Frecuencias [1138  400   58  104  532]\n"
          ]
        }
      ]
    },
    {
      "cell_type": "markdown",
      "metadata": {
        "id": "_O38vLD6doA-"
      },
      "source": [
        "Los árboles de decisión no suelen estar muy afectados por clases desbalanceadas por lo que no vamos a considerar un tratamiento especial. Sí es importante tenerlo en cuenta para otros algoritmos de clasificación."
      ]
    },
    {
      "cell_type": "markdown",
      "metadata": {
        "id": "IeCVf4utdX57"
      },
      "source": [
        "### Separación entre entrenamiento y testeo y construcción del clasificador\n",
        "\n",
        "Igual que con regresión, definamos los features y nuestra variable a predecir. Separemos además en entrenamiento y testeo."
      ]
    },
    {
      "cell_type": "code",
      "metadata": {
        "id": "VYHZ923H8XrA"
      },
      "source": [
        "# Lista de features que vamos a considerar\n",
        "features = ['M2', 'AMBIENTES', 'ANTIGUEDAD', 'BAÑOS', 'log10_DOLARES']\n",
        "\n",
        "# Variable a predecir\n",
        "target = 'ZONA'\n",
        "\n",
        "# Construcción de la matriz de features\n",
        "X = df[features].to_numpy()\n",
        "\n",
        "# Construcción del vector a predecir\n",
        "y = df[target].to_numpy()\n",
        "\n",
        "# Creacion de las matrices de entrenamiento y testeo.\n",
        "X_train, X_test, y_train, y_test = train_test_split(X, y, test_size = 0.10)"
      ],
      "execution_count": null,
      "outputs": []
    },
    {
      "cell_type": "markdown",
      "metadata": {
        "id": "s19wNqBddo-d"
      },
      "source": [
        "#### Construcción del clasificador\n",
        "\n",
        "Empecemos con un único árbol sencillo. Vamos a poner solo a modo exploratorio un máximo de 5 hojas en el árbol. Idealmente podríamos esperar que estas 5 hojas sean lo más puras posibles y se correspondan con cada una de las 5 zonas que aparecen en nuestro dataset."
      ]
    },
    {
      "cell_type": "code",
      "metadata": {
        "id": "4YS4uLI09IY1"
      },
      "source": [
        "# Creamos el clasificador con un máximo de 5 hojas\n",
        "dtc = DecisionTreeClassifier(max_leaf_nodes = 5)"
      ],
      "execution_count": null,
      "outputs": []
    },
    {
      "cell_type": "code",
      "metadata": {
        "colab": {
          "base_uri": "https://localhost:8080/"
        },
        "id": "VwLVCjObd48D",
        "outputId": "b7d11ec2-c301-4205-e44f-918eadeb8979"
      },
      "source": [
        "# Entrenamiento del modelo\n",
        "dtc.fit(X_train, y_train)\n",
        "\n",
        "# Score del modelo en el conjunto de entrenamiento\n",
        "score_in_train = dtc.score(X_train, y_train)\n",
        "\n",
        "# Score del modelo en el conjunto de testeo\n",
        "score_in_test = dtc.score(X_test, y_test)\n",
        "\n",
        "print('Score en el set de entrenamiento: {}'.format(score_in_train))\n",
        "print('Score en el set de testeo: {}'.format(score_in_test))"
      ],
      "execution_count": null,
      "outputs": [
        {
          "output_type": "stream",
          "name": "stdout",
          "text": [
            "Score en el set de entrenamiento: 0.5756972111553785\n",
            "Score en el set de testeo: 0.5714285714285714\n"
          ]
        }
      ]
    },
    {
      "cell_type": "markdown",
      "metadata": {
        "id": "E8myUvYNev0Z"
      },
      "source": [
        "Veamos el gráfico del árbol:"
      ]
    },
    {
      "cell_type": "code",
      "metadata": {
        "colab": {
          "base_uri": "https://localhost:8080/",
          "height": 626
        },
        "id": "f3nmWWUJcuXR",
        "outputId": "c907dc58-3b63-4bab-8140-b54404294185"
      },
      "source": [
        "# Creamos la figura donde plotear el árbol con matplotlib\n",
        "fig, ax = plt.subplots(figsize = (15, 8))\n",
        "\n",
        "# Llamamos a la función \"plot_tree\" que importamos de sklearn.tree más arriba.\n",
        "# Le pasamos como argumento el modelo que creamos y el nombre de los features.\n",
        "# \"fontsize\" y \"filled\" son solo ajustes de la visualización\n",
        "# y le decimos que plotee el arbol en la figura que creamos\n",
        "plot_tree(dtc, feature_names=features, fontsize = 12, filled = True, ax = ax)"
      ],
      "execution_count": null,
      "outputs": [
        {
          "output_type": "execute_result",
          "data": {
            "text/plain": [
              "[Text(0.5, 0.9, 'log10_DOLARES <= 5.273\\ngini = 0.649\\nsamples = 2008\\nvalue = [1023, 358, 51, 99, 477]'),\n",
              " Text(0.3333333333333333, 0.7, 'log10_DOLARES <= 4.941\\ngini = 0.705\\nsamples = 1339\\nvalue = [534, 275, 42, 91, 397]'),\n",
              " Text(0.16666666666666666, 0.5, 'gini = 0.738\\nsamples = 381\\nvalue = [85, 141, 25, 35, 95]'),\n",
              " Text(0.5, 0.5, 'AMBIENTES <= 2.5\\ngini = 0.658\\nsamples = 958\\nvalue = [449, 134, 17, 56, 302]'),\n",
              " Text(0.3333333333333333, 0.3, 'gini = 0.538\\nsamples = 476\\nvalue = [300, 42, 8, 14, 112]'),\n",
              " Text(0.6666666666666666, 0.3, 'ANTIGUEDAD <= 40.5\\ngini = 0.705\\nsamples = 482\\nvalue = [149, 92, 9, 42, 190]'),\n",
              " Text(0.5, 0.1, 'gini = 0.657\\nsamples = 363\\nvalue = [122, 33, 5, 36, 167]'),\n",
              " Text(0.8333333333333334, 0.1, 'gini = 0.662\\nsamples = 119\\nvalue = [27, 59, 4, 6, 23]'),\n",
              " Text(0.6666666666666666, 0.7, 'gini = 0.436\\nsamples = 669\\nvalue = [489, 83, 9, 8, 80]')]"
            ]
          },
          "metadata": {},
          "execution_count": 10
        },
        {
          "output_type": "display_data",
          "data": {
            "text/plain": [
              "<Figure size 1080x576 with 1 Axes>"
            ],
            "image/png": "[encoded data removed]"
          },
          "metadata": {
            "needs_background": "light"
          }
        }
      ]
    },
    {
      "cell_type": "markdown",
      "metadata": {
        "id": "aTHgaGaGevxu"
      },
      "source": [
        "Por default, el árbol usa el coeficiente de Gini para separar las clases (ver documentación de scikit-learn y clase teórica). En cada nodo y cada hoja podemos ver la cantidad de instancias dentro, y a qué clase pertenece. Uno de los factores más importantes que usa el árbol para separar es el precio de los inmuebles.\n",
        "\n",
        "Recordemos que si no especificamos la profundidad del árbol, esta es la máxima posible, lo cual puede llevar a overfittear. Podemos agregarle un término de regularización y tratar de estimarlo con cross-validation:"
      ]
    },
    {
      "cell_type": "code",
      "metadata": {
        "colab": {
          "base_uri": "https://localhost:8080/"
        },
        "id": "CGPiNgTp9V5C",
        "outputId": "d11f288b-b4c3-4eb8-92f0-93cf3fd17a89"
      },
      "source": [
        "# Tomamos un valor de alpha entre 10^-10 y 1. Usamos un barrido logaritmico.\n",
        "for alpha in np.logspace(-10, 0, 11):\n",
        "\n",
        "    # Creamos el modelo para un dado valor de alpha\n",
        "    dtr = DecisionTreeClassifier(ccp_alpha = alpha)\n",
        "\n",
        "    # Calculamos los scores al hacer cross-validation con 5 folds\n",
        "    # Al especificar el valor de cv, cross_val_score hace cross-validation estratificado\n",
        "    scores = cross_val_score(dtr, X_train, y_train, cv = 5)\n",
        "\n",
        "    # Imprimimos el valor de alpha y el score medio\n",
        "    print('Valor de alpha {} - Score medio = {}'.format(alpha, scores.mean()))"
      ],
      "execution_count": null,
      "outputs": [
        {
          "output_type": "stream",
          "name": "stdout",
          "text": [
            "Valor de alpha 1e-10 - Score medio = 0.6638453617200779\n",
            "Valor de alpha 1e-09 - Score medio = 0.6743067703874642\n",
            "Valor de alpha 1e-08 - Score medio = 0.6683279363779605\n",
            "Valor de alpha 1e-07 - Score medio = 0.6693242019329786\n",
            "Valor de alpha 1e-06 - Score medio = 0.6708167392464114\n",
            "Valor de alpha 1e-05 - Score medio = 0.6698204736913934\n",
            "Valor de alpha 0.0001 - Score medio = 0.6683254550191686\n",
            "Valor de alpha 0.001 - Score medio = 0.6822768948276077\n",
            "Valor de alpha 0.01 - Score medio = 0.560754829344549\n",
            "Valor de alpha 0.1 - Score medio = 0.5094614210741801\n",
            "Valor de alpha 1.0 - Score medio = 0.5094614210741801\n"
          ]
        }
      ]
    },
    {
      "cell_type": "markdown",
      "metadata": {
        "id": "AmaSO9o4fSTr"
      },
      "source": [
        "Tomemos el valor de $\\alpha$ donde es el score sea máximo y veamos cómo le va a nuestro modelo en el set de testeo:"
      ]
    },
    {
      "cell_type": "code",
      "metadata": {
        "colab": {
          "base_uri": "https://localhost:8080/"
        },
        "id": "RTr8oYO-RltC",
        "outputId": "6ce3e602-3520-4504-fe27-1e7bdc616017"
      },
      "source": [
        "alpha = 10**-5\n",
        "\n",
        "# Creamos el modelo para un dado valor de alpha\n",
        "dtr = DecisionTreeClassifier(ccp_alpha = alpha)\n",
        "\n",
        "# Entrenamos el modelo\n",
        "dtr.fit(X_train, y_train)\n",
        "\n",
        "# Calculamos el score en el set de testeo\n",
        "dtr.score(X_test, y_test)"
      ],
      "execution_count": null,
      "outputs": [
        {
          "output_type": "execute_result",
          "data": {
            "text/plain": [
              "0.7321428571428571"
            ]
          },
          "metadata": {},
          "execution_count": 12
        }
      ]
    },
    {
      "cell_type": "markdown",
      "metadata": {
        "id": "fIlblP4sfs15"
      },
      "source": [
        "Lo que vemos es que agregarle regularización podemos obtener una performance un poquito más grande, pero no parece ser muy significativa. Vamos a probar luego con otro modelo como Random Forest para ver si mejora.\n",
        "\n",
        "Igualmente recordemos antes que, como muchos de los clasificadores en scikit-learn, lo que obtenemos con estos es una probabilidad de a qué clase pertenece cada instancia:"
      ]
    },
    {
      "cell_type": "code",
      "metadata": {
        "colab": {
          "base_uri": "https://localhost:8080/"
        },
        "id": "7FxXigRFZnKZ",
        "outputId": "9135548b-0125-4234-98e6-bdda32f323f9"
      },
      "source": [
        "dtr.predict_proba(X_test)"
      ],
      "execution_count": null,
      "outputs": [
        {
          "output_type": "execute_result",
          "data": {
            "text/plain": [
              "array([[1., 0., 0., 0., 0.],\n",
              "       [1., 0., 0., 0., 0.],\n",
              "       [0., 0., 0., 0., 1.],\n",
              "       ...,\n",
              "       [1., 0., 0., 0., 0.],\n",
              "       [0., 0., 0., 0., 1.],\n",
              "       [0., 0., 0., 0., 1.]])"
            ]
          },
          "metadata": {},
          "execution_count": 13
        }
      ]
    },
    {
      "cell_type": "markdown",
      "metadata": {
        "id": "OHQgHir0kugv"
      },
      "source": [
        "donde, para identificar las columnas de la matriz anterior, podemos inspeccionar cómo están ordenadas las clases con el atributo *classes_*:"
      ]
    },
    {
      "cell_type": "code",
      "metadata": {
        "colab": {
          "base_uri": "https://localhost:8080/"
        },
        "id": "q-r6Md8MZ2w5",
        "outputId": "f656fa22-55e8-4b60-a0f7-4dfcb62314f9"
      },
      "source": [
        "print(dtr.classes_)"
      ],
      "execution_count": null,
      "outputs": [
        {
          "output_type": "stream",
          "name": "stdout",
          "text": [
            "['A' 'B' 'C' 'D' 'E']\n"
          ]
        }
      ]
    },
    {
      "cell_type": "markdown",
      "metadata": {
        "id": "VodsVgQal3iw"
      },
      "source": [
        "Si el problema fuera de clasificación binaria, recordemos que con las probabilidades podemos barrer en umbrales y construir matrices de confusión, realizar la curva ROC y calcular el AUC."
      ]
    },
    {
      "cell_type": "markdown",
      "metadata": {
        "id": "kPVnfUz-g2Cc"
      },
      "source": [
        "### Random forest para clasificación\n",
        "\n",
        "Probemos con otro modelo a ver si mejora un poco nuestra predicción, en este caso con un ensamble de 100 árboles de decisión que constituyen nuestro Random Forest."
      ]
    },
    {
      "cell_type": "code",
      "metadata": {
        "id": "EzoPbMxaaNa_"
      },
      "source": [
        "# Construcción del clasificador como Random Forest\n",
        "rfc = RandomForestClassifier(n_estimators=100)"
      ],
      "execution_count": null,
      "outputs": []
    },
    {
      "cell_type": "code",
      "metadata": {
        "colab": {
          "base_uri": "https://localhost:8080/"
        },
        "id": "oq2aaTxXbPi_",
        "outputId": "48039378-e44c-4e6f-e7ee-f6121434625e"
      },
      "source": [
        "# Entrenamiento del modelo\n",
        "rfc.fit(X_train, y_train)"
      ],
      "execution_count": null,
      "outputs": [
        {
          "output_type": "execute_result",
          "data": {
            "text/plain": [
              "RandomForestClassifier()"
            ]
          },
          "metadata": {},
          "execution_count": 16
        }
      ]
    },
    {
      "cell_type": "markdown",
      "metadata": {
        "id": "yKu1nbWtkRz-"
      },
      "source": [
        "Veamos las probabilidades que nos devuelve al algortimo para el set de testeo. Recordemos que este es el resultado de la votación de cada árbol incluído en el bosque (si cada árbol da un probabilidad, entra como un promedio pesado):"
      ]
    },
    {
      "cell_type": "code",
      "metadata": {
        "colab": {
          "base_uri": "https://localhost:8080/"
        },
        "id": "dMtDMkFhkIAn",
        "outputId": "9e19302c-8a96-4cd6-ecf0-5ec075900b69"
      },
      "source": [
        "rfc.predict_proba(X_test)"
      ],
      "execution_count": null,
      "outputs": [
        {
          "output_type": "execute_result",
          "data": {
            "text/plain": [
              "array([[0.92, 0.01, 0.05, 0.  , 0.02],\n",
              "       [0.95, 0.01, 0.  , 0.  , 0.04],\n",
              "       [0.07, 0.02, 0.  , 0.01, 0.9 ],\n",
              "       ...,\n",
              "       [0.97, 0.  , 0.  , 0.  , 0.03],\n",
              "       [0.5 , 0.08, 0.  , 0.  , 0.42],\n",
              "       [0.59, 0.  , 0.01, 0.  , 0.4 ]])"
            ]
          },
          "metadata": {},
          "execution_count": 17
        }
      ]
    },
    {
      "cell_type": "markdown",
      "metadata": {
        "id": "VWc4fKRFkZeH"
      },
      "source": [
        "Asignando la clase más probable a cada instancia, podemos comparar con las etiquetas reales:"
      ]
    },
    {
      "cell_type": "code",
      "metadata": {
        "id": "aIb7ESJTkOoj",
        "colab": {
          "base_uri": "https://localhost:8080/"
        },
        "outputId": "e6001281-2183-4503-ec90-4e38d68e9821"
      },
      "source": [
        "# Performance del modelo\n",
        "rfc.score(X_test, y_test)"
      ],
      "execution_count": null,
      "outputs": [
        {
          "output_type": "execute_result",
          "data": {
            "text/plain": [
              "0.7544642857142857"
            ]
          },
          "metadata": {},
          "execution_count": 18
        }
      ]
    },
    {
      "cell_type": "markdown",
      "metadata": {
        "id": "n8uG15-vh8xm"
      },
      "source": [
        "Si bien este número puede fluctuar cada vez que corramos esta notebook, la performance del modelo es en general mucho mejor que con un único árbol.\n",
        "Veamos qué nos dice la lista de features más explicativos:"
      ]
    },
    {
      "cell_type": "code",
      "metadata": {
        "colab": {
          "base_uri": "https://localhost:8080/"
        },
        "id": "qdoT9TKWbYPZ",
        "outputId": "50da6cfc-2471-4cdd-d957-5c9f47ac2846"
      },
      "source": [
        "# Este atributo tiene una medida de la importancia de cada feature\n",
        "feature_importance = rfc.feature_importances_\n",
        "\n",
        "print('Features: {}'.format(features))\n",
        "print('Importancia = {}'.format(feature_importance))"
      ],
      "execution_count": null,
      "outputs": [
        {
          "output_type": "stream",
          "name": "stdout",
          "text": [
            "Features: ['M2', 'AMBIENTES', 'ANTIGUEDAD', 'BAÑOS', 'log10_DOLARES']\n",
            "Importancia = [0.31027827 0.06328929 0.2046997  0.02988886 0.39184388]\n"
          ]
        }
      ]
    },
    {
      "cell_type": "markdown",
      "metadata": {
        "id": "FbPArPrOnWG6"
      },
      "source": [
        "Algo que definitivamente está bien es que las variables \"cantidad de ambientes\" y \"cantidad de baños\" no parecen ser muy informativos de la zona (en definitiva, podemos encontrar departamentos con una dada cantidad de ambientes y baños en cualquier parte de la ciudad). A diferencia del problema de regresión donde teníamos un feature muy dominante, las variables $m^2$, antigüedad y precio tienen un peso similar."
      ]
    },
    {
      "cell_type": "markdown",
      "metadata": {
        "id": "1kpTePC4vf6G"
      },
      "source": [
        "## Cosas para llevarse de esta notebook\n",
        "\n",
        "Podemos constuir los árboles de decisión para clasificación en *scikit-learn* con el siguiente código:\n",
        "~~~\n",
        "from sklearn.tree import DecisionTreeClassifier\n",
        "\n",
        "dtc = DecisionTreeClassifier()\n",
        "~~~\n",
        "donde podemos indicarle los parámetros:\n",
        "~~~\n",
        "max_depth: profundidad del árbol\n",
        "ccp_alpha: constante de regularización\n",
        "min_samples_leaf: mínima cantidad de instancias en cada hoja\n",
        "max_leaf_nodes: máxima cantidad de hojas en el árbol\n",
        "~~~\n",
        "notar que estos argumentos compiten entre sí y no pueden fijarse siempre en simultáneo. Para ajustar el modelo es igual a otros modelos:\n",
        "~~~\n",
        "dtc.fit(X_train, y_train)\n",
        "~~~\n",
        "y para sacar la performance:\n",
        "~~~\n",
        "dtc.score(X_test, y_test)\n",
        "~~~\n",
        "Si no sabemos la profundidad del árbol se la podemos preguntar así:\n",
        "~~~\n",
        "dtc.get_depth()\n",
        "~~~\n",
        "Para obtener las probabilidades de que las instancias pertenezcan a una dada clase lo hacemos así:\n",
        "~~~\n",
        "dtc.predict_proba(X_test)\n",
        "~~~\n",
        "\n",
        "Para Random Forest la sintaxis es muy similar:\n",
        "~~~\n",
        "from sklearn.ensemble import RandomForestClassifier\n",
        "\n",
        "rfc = RandomForestClassifier(n_estimators = 100)\n",
        "~~~\n",
        "donde por default el número de árboles en el ensamble es de 100. La mayoría del resto de los argumentos son los mismos que para los árboles de decisión. Para ver la importancia de cada feature e interpretar un poco el algoritmo podemos verlo así:\n",
        "~~~\n",
        "rfc.feature_importance_\n",
        "~~~"
      ]
    },
    {
      "cell_type": "markdown",
      "metadata": {
        "id": "9lkW3ScayQrN"
      },
      "source": [
        "## Cosas para hacer\n",
        "\n",
        "- ¿Podemos hacer algo mejor con Random Forest? Quizás variar algún que otro parámetro y hacer cross-validation sea una buena idea...\n",
        "- Una vez que construyamos un buen modelo, es significativamente mejor que un modelo nulo? ¿Cómo lo implementaría?"
      ]
    }
  ]
}