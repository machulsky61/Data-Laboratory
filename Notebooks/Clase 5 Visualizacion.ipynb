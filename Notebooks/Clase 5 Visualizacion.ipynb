{
  "nbformat": 4,
  "nbformat_minor": 0,
  "metadata": {
    "colab": {
      "provenance": []
    },
    "kernelspec": {
      "name": "python3",
      "display_name": "Python 3"
    },
    "language_info": {
      "name": "python"
    }
  },
  "cells": [
    {
      "cell_type": "markdown",
      "metadata": {
        "id": "XiblaKYE5u8m"
      },
      "source": [
        "#Visualización\n",
        "\n",
        "La idea de esta notebook es recorrer algunas librerías de visualización de datos, analizando pros y contras de cada una, a partir de trabajar con una de las bases de datos ya vistas"
      ]
    },
    {
      "cell_type": "code",
      "metadata": {
        "id": "PfHG0TuD6AEK"
      },
      "source": [
        "from google.colab import drive # La usamos para montar nuestra unidad de Google Drive\n",
        "\n",
        "\n",
        "import pandas as pd # La usamos para manejar la base de datos (y también graficar) https://pandas.pydata.org/docs/\n",
        "\n",
        "import matplotlib.pylab as plt # Herramienta principal de visualización https://matplotlib.org/stable/contents.html\n",
        "import matplotlib.dates as mdates # Dentro de matplotlib, tenemos una herramienta para manejo de fechas\n",
        "import seaborn as sbn # Herramienta complementaria de visualización https://seaborn.pydata.org/\n",
        "\n",
        "\n",
        "from ipywidgets import interact, interactive, fixed, interact_manual, interactive_output\n",
        "import ipywidgets as widgets # Podemos ganar interactividad en la misma notebook https://ipywidgets.readthedocs.io/en/latest/\n",
        "\n",
        "import plotly.express as px # Generamos un html dinámico, compartible, sin necesidad de correr procesos por detrás https://plotly.com/python/\n",
        "\n",
        "import numpy as np # Siempre resulta que la usamos\n",
        "from wordcloud import WordCloud # Lo usamos para las nubes de palabras"
      ],
      "execution_count": null,
      "outputs": []
    },
    {
      "cell_type": "markdown",
      "metadata": {
        "id": "GhMKUcE3U1lO"
      },
      "source": [
        "## Importamos datos\n",
        "Como hemos hecho en notebooks anteriores, traemos algunas de las bases de datos con las que estamos trabajando.\n",
        "\n",
        "En este caso, traemos la relativa al proceso de vacunación y su percepción."
      ]
    },
    {
      "cell_type": "code",
      "metadata": {
        "id": "6AgkGLYf54_L"
      },
      "source": [
        "drive.mount('/content/drive') # Montamos nuestra unidad de Google Drive\n",
        "\n",
        "filename = '/content/drive/My Drive/LaboDatos2022/vacunas_safe.csv' # Definimos la ubicación + nombre de archivo en cuestión\n",
        "\n",
        "d_1 = pd.read_csv(filename) # Levantamos el archivo a través de pandas. Ahora, d_1 es un Data Frame\n"
      ],
      "execution_count": null,
      "outputs": []
    },
    {
      "cell_type": "code",
      "metadata": {
        "id": "MJjjENTuEzfX"
      },
      "source": [
        "\"\"\"\n",
        "Un poco de procesamiento sobre la fecha. La quiero usar y previamente chequié que había un par de datos con la fecha alterada\n",
        "Básicamente, aparecen dos problemas con las fechas:\n",
        "  - En algunos casos, aparece un \",\" en el medio...\n",
        "  - En otros casos, el mes aparece antes que el día. No entiendo por qué, tal vez gente respondiendo desde otros países o lo que sea\n",
        "Detecté cuáles eran previamente y por eso, el arreglo lo vamos a hacer sobre aquellos índices malditos... (lo segundo, lo de las comas se lo paso a todas por las dudas)\n",
        "\"\"\"\n",
        "def cambio_fecha(f):\n",
        "  \"\"\"\n",
        "  Esta función arregla aquellos registros que tenían formato distinto de fecha\n",
        "  \"\"\"\n",
        "  f = f.split('/')\n",
        "  return '/'.join([f[1],f[0],f[2]])\n",
        "\n",
        "d_1.loc[[3575, 4043, 2130, 1590, 1439, 1121, 1073, 1008,  929,  917,  753, 579,  500,  548,  400,  123],\n",
        "        'timestamp'] = d_1.loc[[3575, 4043, 2130, 1590, 1439, 1121, 1073, 1008,  929,  917,  753, 579,  500,  548,  400,  123],\n",
        "                               'timestamp'].apply(cambio_fecha) # Aplico la función previamente creada para arreglar aquellas fechas mal formateadas\n",
        "\n",
        "d_1['timestamp'] = d_1['timestamp'].apply(lambda x : pd.to_datetime(x.replace(',',''), format = '%d/%m/%Y %H:%M:%S')) # Llevo a datetime la columna de fechas ya arreglada"
      ],
      "execution_count": null,
      "outputs": []
    },
    {
      "cell_type": "markdown",
      "metadata": {
        "id": "i9RTdEbBVbAm"
      },
      "source": [
        "# Matplotlib\n"
      ]
    },
    {
      "cell_type": "markdown",
      "metadata": {
        "id": "aRz4N6k2K6AF"
      },
      "source": [
        "Matplotlib es uno de los paquetes fundamentales del universo python en lo que respecta a análisis de datos. Si bien tenemos que darnos maña y esforzarnos por customizar las figuras, muchas otras librerías corren matplotlib por detrás, es decir, se basan en ella. Por ejemplo, pandas utiliza esta librería.\n",
        "\n",
        "Si bien hay muchas formas de generar figuras utilizando matplotlib, creo que está bueno acostumbrarse a usar la siguiente estructura, para poder tener más control sobre la misma:\n",
        "\n",
        "```\n",
        "fig, ax = plt.subplots(nrows = 1, ncols = 1, figsize = ...)\n",
        "```\n",
        "Lo que estamos logrando con esto es generar una figura, que tendrá un sólo gráfico (row = 1, col = 1). Pero no sólo eso, sino que estamos generando por separado el objeto figura del objeto axis (ejes).\n",
        "\n",
        "Dentro de algunos beneficios de hacerlo así, es que depués podemos espeficicar métodos para cada objeto, de forma diferenciada, así también como usar el objeto \"ax\" para ubicar futuros gráficos.\n"
      ]
    },
    {
      "cell_type": "code",
      "metadata": {
        "id": "pvrw2I6d6xmu"
      },
      "source": [
        "dic_generos = {1 : 'Mujer', 2 : 'Varón', 3 : 'No binario', 4 : 'Género Fluido', 5 : 'Ninguna de las opciones me identifica', 6 : 'Prefiero no decirlo'} # Esto lo saco de uno de los diccionarios que indican qué significa cada número\n",
        "generos = d_1['0_genero'].value_counts()\n",
        "\n",
        "fig, axs = plt.subplots(nrows = 1, ncols = 2, figsize = (20, 6))\n",
        "axs[0].grid('on', linestyle = 'dashed', alpha = 0.5)\n",
        "axs[0].set_title('Genero Participantes')\n",
        "axs[0].set_ylabel('Fracción')\n",
        "axs[0].bar(x = [i for i in range(len(generos))], # Definimos la ubicación de las barras a lo largo del eje horizontal\n",
        "           height = generos.values  / generos.values.sum(), # Definimos la altura de las barras\n",
        "           color = plt.get_cmap('Set1').colors\n",
        "           )\n",
        "axs[0].set_xticks([i for i in range(len(generos))])\n",
        "axs[0].set_xticklabels([dic_generos[g][:10] for g in generos.keys()],\n",
        "                       rotation = 90\n",
        "\n",
        "                       )\n",
        "axs[0].set_yscale('log')\n",
        "\n",
        "axs[0].tick_params(axis='both', which='major', labelsize = 12)\n",
        "\n",
        "axs[1].pie(generos.values / generos.values.sum(),\n",
        "           colors = plt.get_cmap('Set1').colors)\n",
        "\n",
        "axs[1].legend([dic_generos[g][:10] for g in generos.keys()], loc = (-0.12,-0.15))\n",
        "\n",
        "\n",
        "plt.show()"
      ],
      "execution_count": null,
      "outputs": []
    },
    {
      "cell_type": "markdown",
      "metadata": {
        "id": "ZAoIONwQx_M8"
      },
      "source": [
        "Como vemos, la sintaxis utilizada no sólo nos permite ir agregando atributos a axis y figura, sino que además, podemos combinar tipos de gráficos en la misma figura.\n",
        "\n",
        "Ahora bien, veamos un ejemplo más utilizando el género, pero ahora diferenciando por rango etario. Si bien esto podría hacerse mediante stacked bars u otros, tratemos de hacerlo mediante un radar plot."
      ]
    },
    {
      "cell_type": "markdown",
      "metadata": {
        "id": "lGDuLCmyAzn8"
      },
      "source": [
        "### Radar Plot\n",
        "Lamentablemente, matplotlib no posee una función que rápidamente nos permita armar un radar plot, sino que tenemos que construirla bastante desde cero"
      ]
    },
    {
      "cell_type": "code",
      "source": [
        "d_1.head()"
      ],
      "metadata": {
        "id": "QaMVub9BtJvF"
      },
      "execution_count": null,
      "outputs": []
    },
    {
      "cell_type": "code",
      "metadata": {
        "id": "MZiyYi--5Jwi"
      },
      "source": [
        "nivel_educativo_segun_edad = d_1.groupby([pd.cut(d_1['0_edad'], 4), '0_nivelEducativo'])['hash'].count().unstack(1).drop([1,2], axis = 1).apply(lambda x : x / x.sum(), axis = 1)"
      ],
      "execution_count": null,
      "outputs": []
    },
    {
      "cell_type": "code",
      "source": [],
      "metadata": {
        "id": "jjr7d6OYKs7O"
      },
      "execution_count": null,
      "outputs": []
    },
    {
      "cell_type": "code",
      "metadata": {
        "id": "np4yTilgn8MN"
      },
      "source": [
        "nivel_educativo_segun_edad\n",
        ""
      ],
      "execution_count": null,
      "outputs": []
    },
    {
      "cell_type": "code",
      "metadata": {
        "id": "fC9Oyzoq2K5W"
      },
      "source": [
        "def radar_plot(df, title = '',):\n",
        "    categories = df.columns\n",
        "    N = len(categories)\n",
        "    # Lo primero que hacemos es setear los ángulos a destacar en nuestro radar plot: uno para cada categoría que tengamos\n",
        "    angles = [n / float(N) * 2 * np.pi for n in range(N)]\n",
        "    angles += angles[:1]\n",
        "\n",
        "    # Inicializamos una figura, teniendo en cuenta que debemos indicarle que vamos a trabajar en polares\n",
        "    fig, ax = plt.subplots(figsize = (6,6), subplot_kw = {'projection': 'polar'})\n",
        "\n",
        "    # Estas líneas ordenan las categorías de forma tal que la primera vaya arriba en el centro y el resto se distribuya en orden según las agujas del reloj\n",
        "    ax.set_theta_offset(np.pi / 2)\n",
        "    ax.set_theta_direction(-1)\n",
        "\n",
        "    # En cada uno de los ángulos, agregamos un tick con una etiqueta igual a la de la categoría en cuesitón\n",
        "    ax.set_xticks(angles[:-1])\n",
        "    ax.set_xticklabels(categories,\n",
        "                       fontsize = 12)\n",
        "\n",
        "    # Con estas líneas agregamos anillos que indiquen la distancia radial al centro del gráfico\n",
        "    ax.set_rlabel_position(0)\n",
        "    ax.set_yticks([0.1,0.2,0.3,0.4,0.5,])\n",
        "    ax.set_yticklabels([\"0.1\",\"0.2\",\"0.3\",\"0.4\",\"0.5\",],\n",
        "                       color = \"darkgrey\",\n",
        "                       size = 10)\n",
        "    ax.set_ylim(0,0.8)\n",
        "\n",
        "    # ¿Y mis datos, dónde están mis datos?\n",
        "    # Con esta iteración, recorremos las filas del data frame, agregando cada una a la figura\n",
        "    for row in df.iloc:\n",
        "            values = row.values.flatten().tolist()\n",
        "            values += values[:1]\n",
        "            ax.plot(angles, values, linewidth=1.5, linestyle = 'solid', label = 'Edad entre {} y {}'.format(int(row.name.left), int(row.name.right))) # Ploteamos la línea\n",
        "            ax.fill(angles, values, 'b', alpha=0.1) # La rellenamos. Esto puede evitarse, o variar el alpha\n",
        "    # Agregamos una legend que indique cuál es cada línea\n",
        "    ax.legend(loc=(-0.2,-0.3),fontsize=12)\n",
        "    # Seteamos el título\n",
        "    ax.set_title(title, position=(.5, 1.2),fontsize=15,)"
      ],
      "execution_count": null,
      "outputs": []
    },
    {
      "cell_type": "code",
      "metadata": {
        "id": "9uRlecEl48Dy"
      },
      "source": [
        "radar_plot(nivel_educativo_segun_edad, title = 'Nivel Educativo según Edad de lxs Participantes')"
      ],
      "execution_count": null,
      "outputs": []
    },
    {
      "cell_type": "markdown",
      "metadata": {
        "id": "c-O-G9HN_2Dl"
      },
      "source": [
        "Más allá de lo que significa esto, vemos que es posible utilizar los radar plots para analizar distribuciones/proporciones, diferenciando según categorías.\n",
        "\n",
        "Hay otras librerías que sí incluyen radar plot como una función prearmada. Plotly es una de ellas"
      ]
    },
    {
      "cell_type": "markdown",
      "metadata": {
        "id": "kRtJDHCj7JGb"
      },
      "source": [
        "## Imshow\n"
      ]
    },
    {
      "cell_type": "markdown",
      "metadata": {
        "id": "1QH9dAr47eIn"
      },
      "source": [
        "Imshow es un método de matplotlib.pylab para poder graficar matrices.\n",
        "\n",
        "Veamos cuál es la taza de cambio media en la percepción de la efectividad de las vacunas, según si a lxs participantes se les habló de una u otra vacuna, desde una u otra narrativa.\n"
      ]
    },
    {
      "cell_type": "code",
      "metadata": {
        "id": "__d7Gljc7fGJ"
      },
      "source": [
        "d_taza_de_cambio = d_1[(d_1['0_forkNarrativa'] != '-999') & (d_1['0_forkVacuna'] != '-999')& (d_1['0_preEfectosAdversos'] != 0)][['0_forkNarrativa', '0_forkVacuna','0_preEfectosAdversos', '0_postEfectosAdversos']].copy() # Seleccionamos columnas y nos quedamos con las filas que no tengan los -999\n",
        "d_taza_de_cambio['taza de cambio'] = d_taza_de_cambio['0_postEfectosAdversos'] / d_taza_de_cambio['0_preEfectosAdversos']\n",
        "d_taza_de_cambio = d_taza_de_cambio.groupby(['0_forkNarrativa', '0_forkVacuna'])['taza de cambio'].mean().unstack(1)\n",
        "d_taza_de_cambio = d_taza_de_cambio.sort_values(by = d_taza_de_cambio.columns.to_list(), ascending = False) # Este ordenamiento hace que mínimamente la matriz vaya a quedar mejor ordenada para la visualización\n",
        "\n",
        "fig, ax = plt.subplots(figsize = (8,8))\n",
        "\n",
        "im = ax.imshow(d_taza_de_cambio.values, cmap = 'bwr', vmin = 0.95, vmax = 1.05)\n",
        "\n",
        "ax.set_yticks(range(len(d_taza_de_cambio)))\n",
        "ax.set_yticklabels(d_taza_de_cambio.index, fontsize = 12)\n",
        "\n",
        "ax.set_xticks(range(len(d_taza_de_cambio.keys())))\n",
        "ax.set_xticklabels(d_taza_de_cambio.columns, fontsize = 12, rotation = 90)\n",
        "\n",
        "fig.suptitle('Taza de Cambio en Percepción de Efectos Adversos', fontsize = 15)\n",
        "\n",
        "fig.colorbar(im, orientation = 'vertical')\n",
        "\n",
        "plt.show()"
      ],
      "execution_count": null,
      "outputs": []
    },
    {
      "cell_type": "markdown",
      "metadata": {
        "id": "g-rQSjnNb2Av"
      },
      "source": [
        "## Wordclouds\n",
        "\n"
      ]
    },
    {
      "cell_type": "markdown",
      "metadata": {
        "id": "ISb9rLUHcG8A"
      },
      "source": [
        "Las nubes de palabras pueden ser una herramienta interesante para visualizar palabras o expresiones, donde el tamaño aparece según su frecuencia de aparición.\n",
        "\n",
        "Veamos un ejemplo"
      ]
    },
    {
      "cell_type": "code",
      "metadata": {
        "id": "5xFt_0nbcIdG"
      },
      "source": [
        "d_diarios_consumidos = d_1[(d_1['0_diarios'].str.contains('[^0-9]+') == False) & (d_1['0_diarios'] != '-999')][['0_diarios','hash']] # Nos quedamos con aquellas filas que contengan las opciones pre-establecidas (nos ahorramos el tema de texto libre)\n",
        "d_diarios_consumidos['0_diarios'] = d_diarios_consumidos['0_diarios'].astype(int) # Lo llevamos a entero por una compatibilidad\n",
        "\n",
        "diarios_file = '/content/drive/My Drive/Clase 05_04_2022/Diccionario Vacunas - Diarios.csv'\n",
        "\n",
        "d_diarios = pd.read_csv(diarios_file)\n",
        "\n",
        "d = d_diarios_consumidos.merge(d_diarios, how = 'inner', right_on = 'ID', left_on = '0_diarios')['Opción']\n",
        "\n",
        "wc = WordCloud(width = 1600, # Estos dos campos son importantes para definir la calidad de la imagen final\n",
        "               height = 800,\n",
        "               background_color = 'white', # El color de fondo que buscamos\n",
        "               colormap = 'Reds' # La gama de colores para coloreal\n",
        "               ).generate_from_frequencies(d.value_counts().to_dict())\n",
        "fig, ax = plt.subplots(figsize = (10,6))\n",
        "ax.imshow(wc, interpolation = 'bilinear')\n",
        "ax.axis(\"off\")\n",
        "plt.show()"
      ],
      "execution_count": null,
      "outputs": []
    },
    {
      "cell_type": "markdown",
      "metadata": {
        "id": "qSnQJZJCAEDt"
      },
      "source": [
        "# Pandas\n"
      ]
    },
    {
      "cell_type": "markdown",
      "metadata": {
        "id": "20JVW_KcK1DA"
      },
      "source": [
        "Si bien ya vimos que Pandas es una excelente librería para manejar datos, y realizar operaciones sobre los mismos, también está integrada con matplotlib y permite rápidamente generar visualizaciones.\n",
        "\n",
        "Tanto las series como los data frames tendrán métodos .plot() que podremos llamar con la siguiente sintaxis:\n",
        "\n",
        "\n",
        "\n",
        "```\n",
        "pd.Series.plot()\n",
        "# o\n",
        "pd.DataFrame.plot()\n",
        "```\n",
        "donde dentro de otras cosas, podremos indicar cuáles columnas queremos graficar, o por cual columna queremos categorizar los datos. Algo muy importante resulta ser el argumento \"ax\", con el cual podemos indicarle sobre qué eje queremos que realice el gráfico, y ahí podemos integrarlo directamente con la sintaxis previamente vista de matplotlib, lo que puede darnos más manejo de la estética del gráfico.\n",
        "\n",
        "Veamos por ejemplo, lo fácil que es estudiar cómo fue respondida la encuesta en términos temporales (una pavada, pero esto puede ayudar a dar cuenta si en algún momento falló la página, o bien si una campaña de difusión tuvo efecto, perdón, mucho marketig digital). Para esto, tenemos que agrupar los datos según un intervalo temporal determinado (una frecuencia) y contar la cantidad de respuestas a la encuesta en dicho intervalo."
      ]
    },
    {
      "cell_type": "code",
      "metadata": {
        "id": "xtm6HlnN5Vj-"
      },
      "source": [
        "d_1.groupby(pd.Grouper(key = 'timestamp',\n",
        "                       freq = '2d') # Guarden esta funcioncita porque es clave para agrupar fechas como se les plazca\n",
        "            ).hash.count().plot(kind = 'line', # por default\n",
        "                                #ax = algun eje,\n",
        "                                title = '¿Cómo respondieron temporalmente?',\n",
        "                                xlabel = 'Fechas',\n",
        "                                )\n",
        "\n",
        "plt.show()"
      ],
      "execution_count": null,
      "outputs": []
    },
    {
      "cell_type": "markdown",
      "metadata": {
        "id": "bF5PyFuCEy32"
      },
      "source": [
        "Ahora bien, por ejemplo, vemos que el temita de las fechas resulta medio arbitrario. Si queremos customizar de una forma más controlada las etiquetas, podemos integrar pandas con la sintaxis de matplotlib previamente vista"
      ]
    },
    {
      "cell_type": "code",
      "metadata": {
        "id": "z-WN10KA6SOA"
      },
      "source": [
        "actividad_temporal = d_1.groupby(pd.Grouper(key = 'timestamp',\n",
        "                                            freq = '5h') # Guarden esta funcioncita porque es clave para agrupar fechas como se les plazca\n",
        "                                 ).hash.count()\n",
        "fig, ax = plt.subplots()\n",
        "actividad_temporal.plot(kind = 'line', # por default\n",
        "                        #title = '¿Cómo respondieron temporalmente?',\n",
        "                        #xlabel = 'Fechas',\n",
        "                        ax = ax,\n",
        "                        x_compat = True # Esto parece importante, matplotlib trabaja distinto que pandas el tema de fechas y esto parece acomodar todo\n",
        "                        )\n",
        "ax.xaxis.set_major_locator(mdates.DayLocator(interval = 5))\n",
        "ax.xaxis.set_major_formatter(mdates.DateFormatter('%b-%d',))\n",
        "plt.gcf().autofmt_xdate()\n",
        "ax.axvline(actividad_temporal.sort_values().keys()[-1],\n",
        "           linestyle = 'dashed',\n",
        "           color = 'red')\n",
        "ax.text(x = actividad_temporal.sort_values().keys()[-1],\n",
        "        y = 1000,\n",
        "        s = 'Acá disparamos una campaña')\n",
        "plt.show()"
      ],
      "execution_count": null,
      "outputs": []
    },
    {
      "cell_type": "markdown",
      "metadata": {
        "id": "oS2dS4K2KXCC"
      },
      "source": [
        "# Seaborn\n"
      ]
    },
    {
      "cell_type": "markdown",
      "metadata": {
        "id": "nXTFnUQgLEPR"
      },
      "source": [
        "En el camino de integración que estamos siguiendo, pareciera que seaborn es la librería final (?).\n",
        "\n",
        "Trabaja integrando la estructura de data frames de pandas, junto con matplotlib, permitiendo customizaciones y gráficos muy particualres. También, permite setear estilos, lo que puede ser muy útil en distitos contextos\n",
        "\n",
        "Usemos los siguientes datos: veamos cómo es la evaluación del gobierno, según rango etario de lxs participantes."
      ]
    },
    {
      "cell_type": "code",
      "metadata": {
        "id": "oVgFfXTBLElW"
      },
      "source": [
        "sbn.set_context(\"paper\", font_scale = 1.9,) # Existen otros contextos, lo relevante me parece el font_scale, que nos permite desprendernos de setear tamaños estáticos\n",
        "sbn.set_style(\"whitegrid\",rc = {'grid.linestyle': '--'})\n",
        "\n",
        "fig, ax = plt.subplots(figsize = (10,8)) # Medio que esta línea la vamos a necesitar casi siempre\n",
        "\n",
        "sbn.boxplot(data = d_1,\n",
        "               x = pd.cut(d_1['0_edad'],\n",
        "                          4), # Pero lo jugoso está acá, en una línea, esto nos ahorró el laburo de agrupar y etc\n",
        "               y = '0_posturaGobierno')\n",
        "ax.set_xlabel('Rango Etario')\n",
        "ax.set_ylabel('Postura frente al Gobierno')\n",
        "ax.set_xticklabels(['{}-{}'.format(int(i.left), int(i.right)) for i in sorted(pd.cut(d_1['0_edad'], 4).unique())])\n",
        "plt.show()"
      ],
      "execution_count": null,
      "outputs": []
    },
    {
      "cell_type": "markdown",
      "metadata": {
        "id": "kVUKix6_Y4eH"
      },
      "source": [
        "Indaguen en seaborn, tiene una banda de opciones.\n",
        "\n",
        "Por ejemplo, podemos estudiar problemas x vs y y ver cómo son las distribuciones x e y\n",
        "\n",
        "\n"
      ]
    },
    {
      "cell_type": "code",
      "metadata": {
        "id": "nIQiO4SqVSJp"
      },
      "source": [
        "sbn.set_context(\"paper\", font_scale = 1.9,) # Existen otros contextos, lo relevante me parece el font_scale, que nos permite desprendernos de setear tamaños estáticos\n",
        "sbn.set_style(\"whitegrid\",rc = {'grid.linestyle': '--'})\n",
        "\n",
        "grid = sbn.JointGrid(data = d_1, height = 8)\n",
        "ax = sbn.scatterplot(data = d_1[(d_1['0_preTeDarias'] != -999) & (d_1['0_postTeDarias'] != -999)], # Definimos la base de datos a trabajar\n",
        "                x = '0_preTeDarias', # Definimos el campo a plotear en el eje x\n",
        "                y = '0_postTeDarias',# Definimos el campo a plotear en el eje y\n",
        "                ax = grid.ax_joint, # Definimos el eje al cual se le adjunta el gráfico\n",
        "                hue = '0_posturaGobierno', # hue : es el campo que determina el color (puede ser númerico o categórico)\n",
        "                alpha = 0.8 # La transparencia de los puntos\n",
        "                )\n",
        "sbn.kdeplot(d_1[(d_1['0_preTeDarias'] != -999) & (d_1['0_postTeDarias'] != -999)]['0_preTeDarias'], ax = grid.ax_marg_x)\n",
        "sbn.kdeplot(y = d_1[(d_1['0_preTeDarias'] != -999) & (d_1['0_postTeDarias'] != -999)]['0_postTeDarias'], ax = grid.ax_marg_y)\n",
        "ax.set_xlabel('¿Te la darías?')\n",
        "ax.set_ylabel('Y ahora ¿te la darías?')\n",
        "ax.legend(loc = (1.3,0), title = 'Postura frente al Gobierno')\n",
        "ax.axis([-1,101, -1, 101])\n",
        "plt.show()\n",
        "\n",
        "sbn.reset_orig() # Usamos esta línea para resetear la configuración de ploteo. Permite que, en las siguientes celdas, creemos figuras con la configuración standar de matplotlib"
      ],
      "execution_count": null,
      "outputs": []
    },
    {
      "cell_type": "markdown",
      "metadata": {
        "id": "asyVnXNhco_A"
      },
      "source": [
        "# Widgets"
      ]
    },
    {
      "cell_type": "markdown",
      "metadata": {
        "id": "qCxm7HFgc8KC"
      },
      "source": [
        "\n",
        "Los widgets son elementos de UI (user interaction...). Entiendo que el paquete ipywidgets permite generar estos elementos, sin necesidad de meterse a programar en Java Script (destino final de toda persona que quiera diseñar realmente).\n",
        "\n",
        "La idea general va a ser: armar una función cuya entrada serán parámetros dinámicos. Cada vez que modifiquemos un parámetro a partir de los widgets, esta función será ejecutada. En esta notebook, nuestras funciones involucrarán la generación de figuras.\n",
        "\n",
        "Sin ánimo de aburrir, volvamos a hacer el gráfico temporal, pero ahora pudiendo seleccionar un rango de fechas determinado"
      ]
    },
    {
      "cell_type": "code",
      "metadata": {
        "id": "NHz-7PBJc59K"
      },
      "source": [
        "rango_fechas = pd.date_range(d_1['timestamp'].min(), d_1['timestamp'].max(), freq='D') # Armamos una línea de tiempo, espaciada de a un día\n",
        "opciones = [(fecha.strftime('%d/%m/%y'), fecha) for fecha in rango_fechas] # Generamos una lista para determinar cómo elegimos nuestras opciones\n",
        "index = (0, len(opciones)-1)\n",
        "w_f = widgets.SelectionRangeSlider(options = opciones, # Acá, damos forma a la barra para fechas\n",
        "                                   index = index,\n",
        "                                   description = 'Fechas',\n",
        "                                   orientation ='horizontal',\n",
        "                                   layout = {'width': '600px'},\n",
        "                                   continuous_update = False)\n",
        "# Listo, ya tenmos nuestro widget, que se visualiza así:\n",
        "w_f"
      ],
      "execution_count": null,
      "outputs": []
    },
    {
      "cell_type": "code",
      "metadata": {
        "id": "rjX_j0Rpe44j"
      },
      "source": [
        "# Definamos ahora la función que grafique los datos, según los parámetros de fecha\n",
        "def grafico_en_funcion_del_tiempo(df, fecha):\n",
        "    d = df.copy()\n",
        "    d = d[d['timestamp'].between(*fecha)]\n",
        "    actividad_temporal = d.groupby(pd.Grouper(key = 'timestamp',\n",
        "                                              freq = '5h') # Guarden esta funcioncita porque es clave para agrupar fechas como se les plazca\n",
        "                                   ).hash.count()\n",
        "    fig, ax = plt.subplots(figsize = (15,7))\n",
        "    actividad_temporal.plot(kind = 'line', # por default\n",
        "                            ax = ax,\n",
        "                            title = '¿Cómo respondieron temporalmente?',\n",
        "                            xlabel = 'Fechas',\n",
        "                            x_compat = True # Esto parece importante, matplotlib trabaja distinto que pandas el tema de fechas y esto parece acomodar todo\n",
        "                            )\n",
        "    ax.xaxis.set_major_locator(mdates.DayLocator(interval = 5))\n",
        "    ax.xaxis.set_major_formatter(mdates.DateFormatter('%b-%d',))\n",
        "    plt.gcf().autofmt_xdate()\n",
        "    ax.axvline(actividad_temporal.sort_values().keys()[-1],\n",
        "              linestyle = 'dashed',\n",
        "              color = 'red')\n",
        "    ax.text(x = actividad_temporal.sort_values().keys()[-1],\n",
        "            y = actividad_temporal.max(),\n",
        "            s = 'Acá disparamos una campaña')\n",
        "    plt.show()\n",
        "\n",
        "plot_interactivo = interact(grafico_en_funcion_del_tiempo, df = fixed(d_1), fecha = w_f)"
      ],
      "execution_count": null,
      "outputs": []
    },
    {
      "cell_type": "markdown",
      "metadata": {
        "id": "cLyD9wtxiJj7"
      },
      "source": [
        "# Poltly (dash - plotly)"
      ]
    },
    {
      "cell_type": "markdown",
      "metadata": {
        "id": "OL7SKei6iQXB"
      },
      "source": [
        "Plotly, junto con dash, es una librería de python que nos permite generar visualizaciones en un html, la cual de por sí es interactiva.\n",
        "\n",
        "Puede ser muy útil para el armado de tableros o aplicaciones dinámicas (que integradas con servidores remotos tipo pythonanywhere) que nos permiten comunicar nuestros resultados o análisis con gente que no necesariamente sepa de python. Es decir, nos da una herramienta interactiva sin necesidad de que nadie tenga que correr nada.\n",
        "\n",
        "Repitamos lo previo, pero veamos qué sencillo se vuelve:\n"
      ]
    },
    {
      "cell_type": "code",
      "metadata": {
        "id": "qv6L_b2hiOqg"
      },
      "source": [
        "actividad_temporal = d_1.groupby(pd.Grouper(key = 'timestamp',\n",
        "                                            freq = '1h'),\n",
        "                                  ).hash.count().reset_index().rename({'hash':'Cantidad de Respuestas','timestamp' : 'Fecha'}, axis = 1)\n",
        "grafico = px.line(data_frame = actividad_temporal,\n",
        "                  x = 'Fecha',\n",
        "                  y = 'Cantidad de Respuestas',\n",
        "                  )\n",
        "grafico.update_traces(hovertemplate = '%{x|%a %d de %b de %Y }<br>Cantidad de Respuestas: %{y}') # Modificamos la forma en la que nos muestra las fechas en el on-hover"
      ],
      "execution_count": null,
      "outputs": []
    },
    {
      "cell_type": "code",
      "metadata": {
        "id": "FhooyK0CjQU2"
      },
      "source": [
        "from google.colab import files # Lo traigo para poder llevarnos el gráfico\n",
        "grafico.write_html('grafico.html')\n",
        "files.download('grafico.html')"
      ],
      "execution_count": null,
      "outputs": []
    },
    {
      "cell_type": "code",
      "metadata": {
        "id": "679TeCiGhAlV"
      },
      "source": [],
      "execution_count": null,
      "outputs": []
    }
  ]
}