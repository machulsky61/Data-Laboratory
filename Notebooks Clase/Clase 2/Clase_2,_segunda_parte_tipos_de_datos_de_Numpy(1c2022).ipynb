{
  "nbformat": 4,
  "nbformat_minor": 0,
  "metadata": {
    "colab": {
      "provenance": []
    },
    "kernelspec": {
      "name": "python3",
      "display_name": "Python 3"
    },
    "language_info": {
      "name": "python"
    }
  },
  "cells": [
    {
      "cell_type": "markdown",
      "metadata": {
        "id": "z5lQmN-cR2SI"
      },
      "source": [
        "La forma en que pensamos en listas es como secuencias de elementos, no como en vectores o matrices. Podemos aproximarnos a la idea de una matriz numérica utilizando listas dentro de listas, como muestra el siguiente ejemplo:"
      ]
    },
    {
      "cell_type": "code",
      "metadata": {
        "id": "du1iA9w-SJNk"
      },
      "source": [
        "a = [[2,5,1],[3,10,12],[2,0,0]]\n",
        "print(a[0][0])\n",
        "print(a[1][2])"
      ],
      "execution_count": null,
      "outputs": []
    },
    {
      "cell_type": "markdown",
      "metadata": {
        "id": "WjQUEJp7SfDy"
      },
      "source": [
        "Es decir, esta lista se llama con dos índices i,j de forma tal que representa a la siguiente matriz:\n",
        "\n",
        "![matrix.png](data:image/png;base64,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)\n",
        "\n",
        "El problema con esto es que las funciones y métodos de Python no se comportan como esperaríamos si estas fuesen matrices. Por ejemplo, la operación suma no devuelve la suma elemento a elemento, sino la concatenación de la listas:"
      ]
    },
    {
      "cell_type": "code",
      "metadata": {
        "id": "JoSFhXkXTfBv"
      },
      "source": [
        "a = [[2,5,1],[3,10,12],[2,0,0]]\n",
        "b = [[2,5,1],[3,10,12],[2,0,0]]\n",
        "print(a+b)"
      ],
      "execution_count": null,
      "outputs": []
    },
    {
      "cell_type": "markdown",
      "source": [
        "Podemos definir una función \"a mano\" para calcular la suma de dos matrices."
      ],
      "metadata": {
        "id": "qkmQHG2PdLrG"
      }
    },
    {
      "cell_type": "code",
      "source": [
        "def suma_de_matrices(a,b):\n",
        "  c = [] #a + b = c\n",
        "  for i in range(len(a)):\n",
        "    c.append([])\n",
        "    for j in range(len(a[0])):\n",
        "      c[i].append(a[i][j] + b[i][j])\n",
        "  return c"
      ],
      "metadata": {
        "id": "UoHXWmkRdWzW"
      },
      "execution_count": null,
      "outputs": []
    },
    {
      "cell_type": "markdown",
      "source": [
        "Esto funciona, pero tiene muchos problemas.\n",
        "\n",
        "  1 - Es lento y no es \"escalable\". Si n es la dimensión de la matriz, entonces la función hace $n^2$ operaciones. Con n=3 no hay problema, pero con $n = 10^6$ es otra historia.\n",
        "\n",
        "  2 - Es código feo de leer y que me tomó algo de tiempo en escribir.\n",
        "\n",
        "  3 -  Ya existe una librería de Python que se ocupa de esto, y que es escalable porque hace las operaciones de forma vectorial (puede hacer varias operaciones de forma simultánea)\n",
        "\n",
        "**En general, antes de definir funciones busquen si no hay librerías que ya tengan la solución implementada.**\n",
        "\n",
        "**ejercicio: Calcular cuanto tiempo tarda en correr la función suma_de_matrices para $n=10^4$, comparar con Numpy."
      ],
      "metadata": {
        "id": "ncT3nU6NeHCY"
      }
    },
    {
      "cell_type": "markdown",
      "metadata": {
        "id": "BPmE_vPiTo-M"
      },
      "source": [
        "La librería de Python llamada Numpy se inventó precisamente para poder transformar listas en vectores y listas de listas en matrices, de forma tal que cumplan con nuestras intuiciones de álgebra lineal."
      ]
    },
    {
      "cell_type": "code",
      "metadata": {
        "id": "2zsChxZPT0xm"
      },
      "source": [
        "import numpy as np\n",
        "a = np.array([[2,5,1],[3,10,12],[2,0,0]])\n",
        "b = np.array([[2,5,1],[3,10,12],[2,0,0]])\n",
        "print(a+b)\n",
        "print(type(a))\n"
      ],
      "execution_count": null,
      "outputs": []
    },
    {
      "cell_type": "markdown",
      "metadata": {
        "id": "Tez2yFPOUBaf"
      },
      "source": [
        "Es importante notar que Numpy trabaja con datos numéricos y que por lo tanto podemos encontrar un error si intentamos operar aritméticamente con cualquier array."
      ]
    },
    {
      "cell_type": "code",
      "metadata": {
        "id": "AOYfV1IdUKOo"
      },
      "source": [
        "a = np.array(['hola', 'mundo'])\n",
        "b = np.array(['como', 'va'])\n",
        "print(a+b)"
      ],
      "execution_count": null,
      "outputs": []
    },
    {
      "cell_type": "markdown",
      "metadata": {
        "id": "6zKSr0AHUmcg"
      },
      "source": [
        "También es importante que las dimensiones sean consistentes con las operaciones que queremos realizar."
      ]
    },
    {
      "cell_type": "code",
      "metadata": {
        "id": "ABVwohwBUwaB"
      },
      "source": [
        "a = np.array([[2,5,1],[3,10,12],[2,0,0]])\n",
        "b = np.array([[2,5,1],[3,10,12],[2,0,0],[10,10,10]])\n",
        "\n",
        "# estas operaciones entre matrices son válidas\n",
        "print(a+a)\n",
        "print(a*a)\n",
        "\n",
        "# estas operaciones son invalidas\n",
        "print(a+b)\n",
        "print(a*b)\n",
        "print(b*a)"
      ],
      "execution_count": null,
      "outputs": []
    },
    {
      "cell_type": "markdown",
      "metadata": {
        "id": "-YzZat89WJZI"
      },
      "source": [
        "Notar que la operación de multiplicación actúa elemento a elemento. Por eso es imposible hacer el producto elemento a elemento de un array de $3 \\times 3$ por uno de $4 \\times 3$, no importa en que orden lo pongamos.\n",
        "\n",
        "Para hacer producto interno de matrices, usamos dot:"
      ]
    },
    {
      "cell_type": "code",
      "metadata": {
        "id": "EhNOZ91NWjbs"
      },
      "source": [
        "print(np.dot(b,a))"
      ],
      "execution_count": null,
      "outputs": []
    },
    {
      "cell_type": "markdown",
      "metadata": {
        "id": "ehh38uSUWlCA"
      },
      "source": [
        "Obviamente, el orden opuesto da error:\n"
      ]
    },
    {
      "cell_type": "code",
      "metadata": {
        "id": "kJsq8LqFWna6"
      },
      "source": [
        "print(np.dot(a,b))"
      ],
      "execution_count": null,
      "outputs": []
    },
    {
      "cell_type": "markdown",
      "metadata": {
        "id": "BugCRz5FXgyA"
      },
      "source": [
        "¿Qué pasa con los arrays unidimensionales? ¿Entiende automáticamente Numpy que un array puede ser de $1 \\times n$ o de $n \\times 1$ dependiendo del producto que yo quiero hacer?"
      ]
    },
    {
      "cell_type": "code",
      "metadata": {
        "id": "DJx8XM_TXtzr"
      },
      "source": [
        "a = np.array([[2,5,1],[3,10,12],[2,0,0],[10,10,10]])\n",
        "b = np.array([1,2,3])\n",
        "c = np.array([1,2,3,4])\n",
        "print(np.dot(a,b))\n",
        "print(np.dot(c,a))"
      ],
      "execution_count": null,
      "outputs": []
    },
    {
      "cell_type": "markdown",
      "metadata": {
        "id": "F789e9_8X9_I"
      },
      "source": [
        "Aparentmente sí.\n",
        "¿Cómo podemos obtener la dimensión de un array? Usamos el método array.shape()"
      ]
    },
    {
      "cell_type": "code",
      "metadata": {
        "id": "0UiKz166YF76"
      },
      "source": [
        "print(a.shape)\n",
        "print(b.shape)\n",
        "print(c.shape)"
      ],
      "execution_count": null,
      "outputs": []
    },
    {
      "cell_type": "markdown",
      "metadata": {
        "id": "2nV1kpZnYMzJ"
      },
      "source": [
        "También podemos transponer con np.transpose()"
      ]
    },
    {
      "cell_type": "code",
      "metadata": {
        "id": "bi_csXe9YR1D"
      },
      "source": [
        "print(a)\n",
        "print(np.transpose(a))"
      ],
      "execution_count": null,
      "outputs": []
    },
    {
      "cell_type": "markdown",
      "metadata": {
        "id": "JCQ8YQHCYXjr"
      },
      "source": [
        "Además, podemos concatenar matrices siempre que elijamos dimensiones consistenes para hacerlo. Para eso, primero formamos una tupla (...,...,...) y después usamos np.concatenate indicando el eje (0=filas, 1=columnas). Por ejemplo:"
      ]
    },
    {
      "cell_type": "code",
      "metadata": {
        "id": "ChNBaWBKYlhb"
      },
      "source": [
        "a = np.array([[2,5,1],[3,10,12],[2,0,0],[10,10,10]])\n",
        "b = np.array([[2,5,1],[3,10,12],[2,0,0]])\n",
        "\n",
        "print(np.concatenate((a,b),axis=0))\n",
        "print(np.concatenate((b,b),axis=1))"
      ],
      "execution_count": null,
      "outputs": []
    },
    {
      "cell_type": "markdown",
      "metadata": {
        "id": "oOseVD7fZL8d"
      },
      "source": [
        "Podemos elegir sub-matrices usando slicing de forma similar a cómo lo hicimos con listas:"
      ]
    },
    {
      "cell_type": "code",
      "metadata": {
        "id": "k2vBVW2zZUNZ"
      },
      "source": [
        "print(a)\n",
        "print(a[1:3,0:3])"
      ],
      "execution_count": null,
      "outputs": []
    },
    {
      "cell_type": "markdown",
      "metadata": {
        "id": "HyQb-I8fZfim"
      },
      "source": [
        "Además, podemos seleccionar filas o columnas enteras usando : solo,"
      ]
    },
    {
      "cell_type": "code",
      "metadata": {
        "id": "QiYeYuJqZmU0"
      },
      "source": [
        "print(a[:,1])\n",
        "print(a[1,:])"
      ],
      "execution_count": null,
      "outputs": []
    },
    {
      "cell_type": "markdown",
      "metadata": {
        "id": "X2fD2fKaaCfd"
      },
      "source": [
        "A veces es importante averiguar los índices de un array donde se cumple una determinada condición. Eso puede hacerse con la función np.where() de Numpy:"
      ]
    },
    {
      "cell_type": "code",
      "metadata": {
        "id": "NdOGoL6TaOOE"
      },
      "source": [
        "a = np.array([[2,5,1],[3,10,12],[2,0,0],[10,10,10]])\n",
        "np.where(a>1)"
      ],
      "execution_count": null,
      "outputs": []
    },
    {
      "cell_type": "markdown",
      "metadata": {
        "id": "hEM4DSDnbAlo"
      },
      "source": [
        "Esto podemos usarlo directamente para indexar el array y extraer los valores que cumplen con la condición pedida:"
      ]
    },
    {
      "cell_type": "code",
      "metadata": {
        "id": "L9Bd2A_dbJDx"
      },
      "source": [
        "a[np.where(a>1)]"
      ],
      "execution_count": null,
      "outputs": []
    },
    {
      "cell_type": "markdown",
      "metadata": {
        "id": "sYQ7XuOEbPNK"
      },
      "source": [
        "Otra forma de hacerlo es con indexado booleano:"
      ]
    },
    {
      "cell_type": "code",
      "metadata": {
        "id": "bRDrfiqPbSUQ"
      },
      "source": [
        "a[a>1]"
      ],
      "execution_count": null,
      "outputs": []
    },
    {
      "cell_type": "markdown",
      "metadata": {
        "id": "RtpWNK5wbUdV"
      },
      "source": [
        "Si tenemos varias condiciones podemos usar operadores lógicos:"
      ]
    },
    {
      "cell_type": "code",
      "metadata": {
        "id": "sJl1YPaWbZfR"
      },
      "source": [
        "a[a>1 and a<9]"
      ],
      "execution_count": null,
      "outputs": []
    },
    {
      "cell_type": "markdown",
      "metadata": {
        "id": "VSZeBt1Pbh6A"
      },
      "source": [
        "No es tan sencillo como parecia. Cuando tenemos arrays con más de un elemento, tenemos que usar las funciones np.logical_and() y np.logical_or():"
      ]
    },
    {
      "cell_type": "code",
      "metadata": {
        "id": "DjUEK3n0btSi"
      },
      "source": [
        "print(a>1)\n",
        "print(a<9)\n",
        "print(np.logical_and(a>1,a<9))\n",
        "print(np.logical_or(a>1,a<9))\n",
        "print(a[np.logical_and(a>1,a<9)])"
      ],
      "execution_count": null,
      "outputs": []
    },
    {
      "cell_type": "markdown",
      "metadata": {
        "id": "gfWBfjercUK-"
      },
      "source": [
        "Hay algunos arrays predefinidos útiles que Numpy puede generar por nosotros, por ejemplo, arrays llenos de 0's o 1's con una forma determinada, o la matriz identidad. Notar que las dimensiones se le pasan como una tupla (...,...,...):"
      ]
    },
    {
      "cell_type": "code",
      "metadata": {
        "id": "k1kFwJcicc8e"
      },
      "source": [
        "print(np.zeros((2,5)))\n",
        "print(np.ones((2,5)))\n",
        "print(np.eye(7))"
      ],
      "execution_count": null,
      "outputs": []
    },
    {
      "cell_type": "markdown",
      "metadata": {
        "id": "fbOPO4w-cxh6"
      },
      "source": [
        "Por último, si tenemos un archivo de datos del tipo .csv (comma separated values) podemos leerlo fácilmente con Numpy.\n",
        "\n",
        "Para eso, compartí el archivo 'ejemplo_csv_clase_2.csv' en el folder de Labo de Datos. Procedemos a montar el drive y cargar el archivo .csv como una matrix:"
      ]
    },
    {
      "cell_type": "code",
      "metadata": {
        "id": "ZnkANEZbdE9K"
      },
      "source": [
        "from google.colab import drive\n",
        "drive.mount('/content/drive')\n",
        "\n",
        "filename = '/content/drive/My Drive/LaboDatos2021/ejemplo_csv_clase_2.txt'\n",
        "\n",
        "from numpy import genfromtxt\n",
        "a = genfromtxt(filename, delimiter=',')\n",
        "\n",
        "print(a)"
      ],
      "execution_count": null,
      "outputs": []
    },
    {
      "cell_type": "markdown",
      "metadata": {
        "id": "JVRLaw4_ea9r"
      },
      "source": [
        "Notamos que las entradas que tenían strings fueron cargadas como nan = \"not a number\"\n",
        "\n",
        "La forma en que vamos a cargar datasets consistentes de datos heterogéneos en Python es mediante Pandas, una librería para análisis de datos en Python, en particular usando dataframes.  "
      ]
    }
  ]
}